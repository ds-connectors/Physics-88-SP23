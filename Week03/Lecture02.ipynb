{
 "cells": [
  {
   "cell_type": "markdown",
   "metadata": {},
   "source": [
    "# Physics 77, Lecture 2: Basics, Functions, Loops, Lists and Array"
   ]
  },
  {
   "cell_type": "markdown",
   "metadata": {},
   "source": [
    "## Outline\n",
    "- Recap\n",
    "- Loop back: data representation, bits and bytes\n",
    "- Composite Types (Lists, tuples, arrays)\n",
    "- Functions\n",
    "- Conditionals\n",
    "- Loops\n"
   ]
  },
  {
   "cell_type": "markdown",
   "metadata": {},
   "source": [
    "# Recap: Week 1-2\n",
    "\n",
    "- Introductory slides: course outline, syllabus, policy\n",
    "- Introduction to Unix, including use of the command line\n",
    "- A graphing teaser\n",
    "- Introduction to computing, programming and python\n",
    "- Any questions??"
   ]
  },
  {
   "cell_type": "markdown",
   "metadata": {},
   "source": [
    "### Assignments and variables"
   ]
  },
  {
   "cell_type": "markdown",
   "metadata": {},
   "source": [
    "A \"variable\" is a handle to the data that you can name and manipulate. \n",
    "A very common concept in programming ! Actual implementation and properties depend on the language. In Python, there are 3 basic variable types: floats (real numbers), ints (discrete integers), and strings (sequences of characters)\n",
    "\n",
    "The value of giving the variable names is the ability to write more general code: just like a transition from arithmetic to algebra !"
   ]
  },
  {
   "cell_type": "code",
   "execution_count": 56,
   "metadata": {},
   "outputs": [
    {
     "name": "stdout",
     "output_type": "stream",
     "text": [
      "1234.0\n"
     ]
    }
   ],
   "source": [
    "import math as m\n",
    "import cmath as cm\n",
    "\n",
    "a = 100\n",
    "b = -500\n",
    "c = 2\n",
    "\n",
    "\n",
    "A_really_long_and_important_to_describe_name = 1234.\n",
    "print(A_really_long_and_important_to_describe_name)"
   ]
  },
  {
   "cell_type": "markdown",
   "metadata": {},
   "source": [
    "Define the solutions to a quadratic equation:\n",
    "\n",
    "$ax^2+bx+c=0$"
   ]
  },
  {
   "cell_type": "code",
   "execution_count": 62,
   "metadata": {},
   "outputs": [
    {
     "name": "stdout",
     "output_type": "stream",
     "text": [
      "Solutions to the quadratic equation are (up to 4 digits): x_1=-55.091, x_2=0.091\n"
     ]
    }
   ],
   "source": [
    "D = b**2 - 4*a*c\n",
    "x1 = (-b + m.sqrt(D))/(2*a)\n",
    "x2 = (-b - m.sqrt(D))/(2*a)\n",
    "\n",
    "print(\"Solutions to the quadratic equation\",\"are (up to 4 digits): x_1={FirstArg:.3f}, x_2={SecondArg:.3f}\".format(SecondArg=x1,FirstArg=x2))"
   ]
  },
  {
   "cell_type": "markdown",
   "metadata": {},
   "source": [
    "Note that you can change the values assigned to the variables and then rerun the same calculation:"
   ]
  },
  {
   "cell_type": "code",
   "execution_count": 61,
   "metadata": {},
   "outputs": [],
   "source": [
    "a = 1\n",
    "b = +55\n",
    "c = -5\n",
    "\n"
   ]
  },
  {
   "cell_type": "code",
   "execution_count": 59,
   "metadata": {},
   "outputs": [
    {
     "name": "stdout",
     "output_type": "stream",
     "text": [
      "4.995996794869737 0.00400320513026287\n"
     ]
    }
   ],
   "source": [
    "print(x1,x2)"
   ]
  },
  {
   "cell_type": "code",
   "execution_count": null,
   "metadata": {},
   "outputs": [],
   "source": [
    "x1 = (-b + m.sqrt(b**2 - 4*a*c))/(2*a)\n",
    "x2 = (-b - m.sqrt(b*b - 4*a*c))/(2*a)\n",
    "\n",
    "print(\"Solutions to the quadratic equation are: x_1={0:.4f}, x_2={1:.4f}\".format(x1,x2))"
   ]
  },
  {
   "cell_type": "markdown",
   "metadata": {},
   "source": [
    "#### Basic types"
   ]
  },
  {
   "cell_type": "markdown",
   "metadata": {},
   "source": [
    "Declare a variable `x` and assign to it a floating-point value"
   ]
  },
  {
   "cell_type": "code",
   "execution_count": 67,
   "metadata": {},
   "outputs": [
    {
     "name": "stdout",
     "output_type": "stream",
     "text": [
      "27.0 <class 'float'>\n"
     ]
    }
   ],
   "source": [
    "x = 27.0\n",
    "print(x,type(x))\n"
   ]
  },
  {
   "cell_type": "markdown",
   "metadata": {},
   "source": [
    "Declare a variable `y` and assign to it an integer value"
   ]
  },
  {
   "cell_type": "code",
   "execution_count": 63,
   "metadata": {},
   "outputs": [
    {
     "name": "stdout",
     "output_type": "stream",
     "text": [
      "5 <class 'int'>\n"
     ]
    }
   ],
   "source": [
    "y = 5\n",
    "print(y,type(y))\n"
   ]
  },
  {
   "cell_type": "markdown",
   "metadata": {},
   "source": [
    "Declare a variable `str` and assign to it a `string` value"
   ]
  },
  {
   "cell_type": "code",
   "execution_count": 64,
   "metadata": {},
   "outputs": [
    {
     "name": "stdout",
     "output_type": "stream",
     "text": [
      "Hello world <class 'str'>\n"
     ]
    }
   ],
   "source": [
    "str = 'Hello world'\n",
    "print(str,type(str))\n"
   ]
  },
  {
   "cell_type": "markdown",
   "metadata": {},
   "source": [
    "The type of the variable is determined by the value assigned to it. One can reuse variable names. But this is dangerous ! "
   ]
  },
  {
   "cell_type": "code",
   "execution_count": 68,
   "metadata": {},
   "outputs": [
    {
     "name": "stdout",
     "output_type": "stream",
     "text": [
      "Hello world <class 'str'>\n"
     ]
    }
   ],
   "source": [
    "x = \"Hello world\"\n",
    "print(x,type(str))"
   ]
  },
  {
   "cell_type": "markdown",
   "metadata": {},
   "source": [
    "Different representations"
   ]
  },
  {
   "cell_type": "code",
   "execution_count": 69,
   "metadata": {},
   "outputs": [
    {
     "ename": "NameError",
     "evalue": "name 'sqrt' is not defined",
     "output_type": "error",
     "traceback": [
      "\u001b[0;31m---------------------------------------------------------------------------\u001b[0m",
      "\u001b[0;31mNameError\u001b[0m                                 Traceback (most recent call last)",
      "\u001b[0;32m/var/folders/sg/h6rbzs2s5gx46fbp7ylyjggr0000gp/T/ipykernel_16072/3624098275.py\u001b[0m in \u001b[0;36m<module>\u001b[0;34m\u001b[0m\n\u001b[0;32m----> 1\u001b[0;31m \u001b[0msqrt\u001b[0m\u001b[0;34m(\u001b[0m\u001b[0mx\u001b[0m\u001b[0;34m)\u001b[0m\u001b[0;34m\u001b[0m\u001b[0;34m\u001b[0m\u001b[0m\n\u001b[0m",
      "\u001b[0;31mNameError\u001b[0m: name 'sqrt' is not defined"
     ]
    }
   ],
   "source": [
    "sqrt(x)"
   ]
  },
  {
   "cell_type": "code",
   "execution_count": 70,
   "metadata": {},
   "outputs": [
    {
     "name": "stdout",
     "output_type": "stream",
     "text": [
      "<class 'int'>\n",
      "255\n",
      "<class 'int'>\n",
      "5\n"
     ]
    }
   ],
   "source": [
    "i = 0xff         # hexadecimal format !\n",
    "print(type(i))\n",
    "print(i)\n",
    "\n",
    "j = 0b0101\n",
    "print(type(j))\n",
    "print(j)"
   ]
  },
  {
   "cell_type": "markdown",
   "metadata": {},
   "source": [
    "Can convert characters to int and vice versa using the <a href=\"https://en.wikipedia.org/wiki/ASCII\">ascii table</a> "
   ]
  },
  {
   "cell_type": "code",
   "execution_count": 71,
   "metadata": {},
   "outputs": [
    {
     "name": "stdout",
     "output_type": "stream",
     "text": [
      "122\n",
      "F\n",
      "\u0007\n"
     ]
    }
   ],
   "source": [
    "i = ord('z')\n",
    "print(i)\n",
    "c = chr(70)\n",
    "print(c)\n",
    "\n",
    "c = chr(7)\n",
    "print(c)"
   ]
  },
  {
   "cell_type": "markdown",
   "metadata": {},
   "source": [
    "### Shorthands"
   ]
  },
  {
   "cell_type": "code",
   "execution_count": 72,
   "metadata": {},
   "outputs": [
    {
     "name": "stdout",
     "output_type": "stream",
     "text": [
      "1st line: x = 5\n",
      "2nd line: x = 11\n",
      "3rd line: x = 17\n"
     ]
    }
   ],
   "source": [
    "x = 5\n",
    "print(\"1st line: x =\",x)\n",
    "\n",
    "x = x + 6     # what does this mean ? \n",
    "print(\"2nd line: x =\",x)\n",
    "\n",
    "x = 10\n",
    "x += 7   # means x = x + 7\n",
    "print(\"3rd line: x =\",x)"
   ]
  },
  {
   "cell_type": "code",
   "execution_count": 75,
   "metadata": {},
   "outputs": [
    {
     "name": "stdout",
     "output_type": "stream",
     "text": [
      "1st line: y = 100.0\n",
      "2nd line: y = 1000.0\n",
      "i= 90\n"
     ]
    }
   ],
   "source": [
    "y = 100.\n",
    "print(\"1st line: y =\",y)\n",
    "y *= 10.\n",
    "#y = y / 10\n",
    "print(\"2nd line: y =\",y)\n",
    "\n",
    "i = 100\n",
    "i -= 10\n",
    "print(\"i=\",i)"
   ]
  },
  {
   "cell_type": "code",
   "execution_count": 78,
   "metadata": {},
   "outputs": [
    {
     "name": "stdout",
     "output_type": "stream",
     "text": [
      "2\n"
     ]
    }
   ],
   "source": [
    "i = 1\n",
    "i+=1\n",
    "print(i)"
   ]
  },
  {
   "cell_type": "markdown",
   "metadata": {},
   "source": [
    "### Integer vs Floating point types"
   ]
  },
  {
   "cell_type": "code",
   "execution_count": 79,
   "metadata": {},
   "outputs": [
    {
     "data": {
      "text/plain": [
       "0.5"
      ]
     },
     "execution_count": 79,
     "metadata": {},
     "output_type": "execute_result"
    }
   ],
   "source": [
    "1/2  # Used to produce 0 in Python 2 ! \n"
   ]
  },
  {
   "cell_type": "code",
   "execution_count": 80,
   "metadata": {},
   "outputs": [
    {
     "data": {
      "text/plain": [
       "0"
      ]
     },
     "execution_count": 80,
     "metadata": {},
     "output_type": "execute_result"
    }
   ],
   "source": [
    "1//2 # this is how most computer languages would evaluate the expression above !"
   ]
  },
  {
   "cell_type": "code",
   "execution_count": 81,
   "metadata": {},
   "outputs": [
    {
     "data": {
      "text/plain": [
       "float"
      ]
     },
     "execution_count": 81,
     "metadata": {},
     "output_type": "execute_result"
    }
   ],
   "source": [
    "type(1/2)"
   ]
  },
  {
   "cell_type": "code",
   "execution_count": null,
   "metadata": {},
   "outputs": [],
   "source": [
    "1./2"
   ]
  },
  {
   "cell_type": "markdown",
   "metadata": {},
   "source": [
    "### Association rules, order of operations"
   ]
  },
  {
   "cell_type": "code",
   "execution_count": null,
   "metadata": {},
   "outputs": [],
   "source": [
    "2+2*4"
   ]
  },
  {
   "cell_type": "code",
   "execution_count": null,
   "metadata": {},
   "outputs": [],
   "source": [
    "(2+2)*(2-1/2)"
   ]
  },
  {
   "cell_type": "markdown",
   "metadata": {},
   "source": [
    "### Comments"
   ]
  },
  {
   "cell_type": "markdown",
   "metadata": {},
   "source": [
    "This is a long comment\n",
    "I can make things in *italics* or **bold**\n",
    "\n",
    "And write math: $\\sqrt{-1}=j$"
   ]
  },
  {
   "cell_type": "code",
   "execution_count": null,
   "metadata": {},
   "outputs": [],
   "source": [
    "# this is a comment"
   ]
  },
  {
   "cell_type": "code",
   "execution_count": null,
   "metadata": {},
   "outputs": [],
   "source": [
    "x = 5 # assign 5 to a variable named \"x\"\n",
    "\n",
    "'''\n",
    "\n",
    "more comments\n",
    "\n",
    "even more text\n",
    "\n",
    "I am very verbose\n",
    "\n",
    "x=7\n",
    "\n",
    "'''\n",
    "\n",
    "print(x)"
   ]
  },
  {
   "cell_type": "markdown",
   "metadata": {},
   "source": [
    "more comments using HTML syntax with <b>bold text</b>  or <i>italics</i> "
   ]
  },
  {
   "cell_type": "code",
   "execution_count": null,
   "metadata": {},
   "outputs": [],
   "source": [
    "print('Hello world') # with a comment\n",
    "\n",
    "i = 5\n",
    "\n",
    "s = 'Hello'\n",
    "\n",
    "s += ' world'.upper()   # convert to upper case\n",
    "print(s)"
   ]
  },
  {
   "cell_type": "markdown",
   "metadata": {},
   "source": [
    "#### Creating a variable without initial value\n",
    "\n",
    "Is it possible to \"declare\" a variable without giving it an initial value? The short answer is no: Python is a \"dynamic\" language and variables are created on demand, so there is no reason to pre-declare them. Moreover, variables can even change type:"
   ]
  },
  {
   "cell_type": "code",
   "execution_count": null,
   "metadata": {},
   "outputs": [],
   "source": [
    "import math as m\n",
    "x = 5\n",
    "print(type(x), m.sqrt(x))\n",
    "\n",
    "x = \"Hello\"   # changed type on the fly - Python has no problem here\n",
    "print(type(x))\n",
    "\n",
    "# But this is a terrible practice -- and can lead to errors like this:\n",
    "print(m.sqrt(x))   # oops"
   ]
  },
  {
   "cell_type": "markdown",
   "metadata": {},
   "source": [
    "If you _must_ declare an unitialized variable for some reason (e.g. to remember that the value has not been assigned yet, similar to a NULL pointer in C), there are a few special values. In Python 2 and 3, you can use the value None. In Python 3, you can use also assign the value ... (Ellipsis). It's mostly used for special features of container classes (e.g. multi-dimensional arrays). Of course, neither value will work for subsequent operations. "
   ]
  },
  {
   "cell_type": "code",
   "execution_count": null,
   "metadata": {},
   "outputs": [],
   "source": [
    "x = None\n",
    "print(type(x),x)\n",
    "\n",
    "x = ...\n",
    "print(type(x),x)\n",
    "y = x + 4\n",
    "print(y)\n"
   ]
  },
  {
   "cell_type": "code",
   "execution_count": null,
   "metadata": {},
   "outputs": [],
   "source": [
    "myList = [1,2,3,None,10,...]\n",
    "\n",
    "sum = 0\n",
    "i = 0\n",
    "for entry in myList:\n",
    "    if ( entry is None ):\n",
    "        print(\"Entry is None\")\n",
    "    else:\n",
    "        print(\"Entry is not None\")\n",
    "    \n",
    "    try:\n",
    "        sum += entry \n",
    "    except:\n",
    "        print(\"Entry\",entry,\"at location\",i,\"has an undefined value\")\n",
    "        myList[i] = -1000\n",
    "        sum += myList[i]\n",
    "    i+=1\n",
    "    \n",
    "print(sum)\n",
    "print(myList)\n",
    "#y = x + 4\n",
    "#print(y)"
   ]
  },
  {
   "cell_type": "markdown",
   "metadata": {},
   "source": [
    "### Association rules, order of operations\n",
    "\n",
    "Python follows the standard \"PEMDAS\" order of evaluating operators:\n",
    "1. Parentheses\n",
    "1. Exponentiation\n",
    "1. Multiplication/division (equal precedence, evaluate from left to right)\n",
    "1. Addition/subtraction (equal precedence, evaluate from left to right)\n",
    "\n",
    "The full table (in the reverse order, i.e. from last to first) is listed here: https://docs.python.org/3/reference/expressions.html#operator-precedence\n",
    "\n",
    "Here are some examples. The general rule -- if in doubt, add parentheses ! "
   ]
  },
  {
   "cell_type": "code",
   "execution_count": 82,
   "metadata": {},
   "outputs": [
    {
     "data": {
      "text/plain": [
       "18"
      ]
     },
     "execution_count": 82,
     "metadata": {},
     "output_type": "execute_result"
    }
   ],
   "source": [
    "2+2*2**3"
   ]
  },
  {
   "cell_type": "code",
   "execution_count": 83,
   "metadata": {},
   "outputs": [
    {
     "data": {
      "text/plain": [
       "7.875"
      ]
     },
     "execution_count": 83,
     "metadata": {},
     "output_type": "execute_result"
    }
   ],
   "source": [
    "(2+2)*2-(1/2)**3"
   ]
  },
  {
   "cell_type": "markdown",
   "metadata": {},
   "source": [
    "Here is a tricky one -- how would this be evaluated ? "
   ]
  },
  {
   "cell_type": "code",
   "execution_count": 84,
   "metadata": {},
   "outputs": [
    {
     "data": {
      "text/plain": [
       "72.0"
      ]
     },
     "execution_count": 84,
     "metadata": {},
     "output_type": "execute_result"
    }
   ],
   "source": [
    "144.**1/2   # is this equal to sqrt(144) ?"
   ]
  },
  {
   "cell_type": "markdown",
   "metadata": {},
   "source": [
    "Try again:"
   ]
  },
  {
   "cell_type": "code",
   "execution_count": 86,
   "metadata": {},
   "outputs": [
    {
     "name": "stdout",
     "output_type": "stream",
     "text": [
      "sqrt(144)= 12.0\n",
      "sqrt(144)= 12.0\n"
     ]
    }
   ],
   "source": [
    "print('sqrt(144)=',144.**(1./2))  # this is OK\n",
    "print('sqrt(144)=',144.**0.5)     # this is even better -- seems like a small saving of compute time, but it adds up"
   ]
  },
  {
   "cell_type": "markdown",
   "metadata": {},
   "source": [
    "### Integer vs Floating point types"
   ]
  },
  {
   "cell_type": "code",
   "execution_count": null,
   "metadata": {},
   "outputs": [],
   "source": [
    "x = 2\n",
    "type(x)   # what type is this variable ?"
   ]
  },
  {
   "cell_type": "code",
   "execution_count": null,
   "metadata": {},
   "outputs": [],
   "source": [
    "y = 2.\n",
    "type(y)    # how about now ?"
   ]
  },
  {
   "cell_type": "code",
   "execution_count": null,
   "metadata": {},
   "outputs": [],
   "source": [
    "1/2  # Used to produce 0 in Python 2 ! "
   ]
  },
  {
   "cell_type": "code",
   "execution_count": null,
   "metadata": {},
   "outputs": [],
   "source": [
    "1//2 # this is how most computer languages would evaluate the expression above !"
   ]
  },
  {
   "cell_type": "code",
   "execution_count": null,
   "metadata": {},
   "outputs": [],
   "source": [
    "int(1/2) # or, more explicitly, you get this (e.g. division of int by int returns int in C)"
   ]
  },
  {
   "cell_type": "markdown",
   "metadata": {},
   "source": [
    "But in order to make your code portable, and learn good programming practices, I would encourage you to explicitly type float constants if you intend the division to use floating-point precision. Easiest way to do this is to add a decimal point to the constant:"
   ]
  },
  {
   "cell_type": "code",
   "execution_count": null,
   "metadata": {},
   "outputs": [],
   "source": [
    "OneHalf = 1./2\n",
    "print(OneHalf)"
   ]
  },
  {
   "cell_type": "markdown",
   "metadata": {},
   "source": [
    "### Number of bytes and precision of data types"
   ]
  },
  {
   "cell_type": "code",
   "execution_count": 1,
   "metadata": {},
   "outputs": [],
   "source": [
    "import sys"
   ]
  },
  {
   "cell_type": "markdown",
   "metadata": {},
   "source": [
    "Let's determine the sizes of basic types"
   ]
  },
  {
   "cell_type": "code",
   "execution_count": 2,
   "metadata": {},
   "outputs": [
    {
     "data": {
      "text/plain": [
       "408"
      ]
     },
     "execution_count": 2,
     "metadata": {},
     "output_type": "execute_result"
    }
   ],
   "source": [
    "sys.getsizeof(int)  # huh ?"
   ]
  },
  {
   "cell_type": "code",
   "execution_count": 3,
   "metadata": {},
   "outputs": [
    {
     "data": {
      "text/plain": [
       "28"
      ]
     },
     "execution_count": 3,
     "metadata": {},
     "output_type": "execute_result"
    }
   ],
   "source": [
    "sys.getsizeof(int(4)) # more realistic. 8 bytes for the data, 20 bytes of overhead"
   ]
  },
  {
   "cell_type": "code",
   "execution_count": 7,
   "metadata": {},
   "outputs": [
    {
     "data": {
      "text/plain": [
       "9223372036854775807"
      ]
     },
     "execution_count": 7,
     "metadata": {},
     "output_type": "execute_result"
    }
   ],
   "source": [
    "sys.maxsize   # this is a 64-bit integer, because I am running a 64-bit version of Python"
   ]
  },
  {
   "cell_type": "code",
   "execution_count": 6,
   "metadata": {},
   "outputs": [
    {
     "data": {
      "text/plain": [
       "9223372036854775807"
      ]
     },
     "execution_count": 6,
     "metadata": {},
     "output_type": "execute_result"
    }
   ],
   "source": [
    "2**63-1  # check"
   ]
  },
  {
   "cell_type": "markdown",
   "metadata": {},
   "source": [
    "Interesting thing about Python is that it would allocate more bytes for data if needed, so there is no practical limit to the integer value"
   ]
  },
  {
   "cell_type": "code",
   "execution_count": 8,
   "metadata": {},
   "outputs": [
    {
     "name": "stdout",
     "output_type": "stream",
     "text": [
      "36893488147419103231\n",
      "<class 'int'>\n"
     ]
    }
   ],
   "source": [
    "print(2**65-1)\n",
    "print(type(2**65-1))"
   ]
  },
  {
   "cell_type": "code",
   "execution_count": 9,
   "metadata": {},
   "outputs": [
    {
     "name": "stdout",
     "output_type": "stream",
     "text": [
      "36\n",
      "sys.int_info(bits_per_digit=30, sizeof_digit=4)\n"
     ]
    }
   ],
   "source": [
    "print(sys.getsizeof(2**65))\n",
    "print(sys.int_info)"
   ]
  },
  {
   "cell_type": "markdown",
   "metadata": {},
   "source": [
    "Floating point numbers:"
   ]
  },
  {
   "cell_type": "code",
   "execution_count": 10,
   "metadata": {},
   "outputs": [
    {
     "data": {
      "text/plain": [
       "24"
      ]
     },
     "execution_count": 10,
     "metadata": {},
     "output_type": "execute_result"
    }
   ],
   "source": [
    "sys.getsizeof(float(1.0))   # apparently, also 24 bytes"
   ]
  },
  {
   "cell_type": "markdown",
   "metadata": {},
   "source": [
    "Largest representable float"
   ]
  },
  {
   "cell_type": "code",
   "execution_count": 11,
   "metadata": {},
   "outputs": [
    {
     "data": {
      "text/plain": [
       "1.6e+308"
      ]
     },
     "execution_count": 11,
     "metadata": {},
     "output_type": "execute_result"
    }
   ],
   "source": [
    "1.6e+308"
   ]
  },
  {
   "cell_type": "code",
   "execution_count": 12,
   "metadata": {},
   "outputs": [
    {
     "name": "stdout",
     "output_type": "stream",
     "text": [
      "inf\n"
     ]
    }
   ],
   "source": [
    "x=3e+308\n",
    "print(x)"
   ]
  },
  {
   "cell_type": "code",
   "execution_count": 13,
   "metadata": {},
   "outputs": [
    {
     "data": {
      "text/plain": [
       "nan"
      ]
     },
     "execution_count": 13,
     "metadata": {},
     "output_type": "execute_result"
    }
   ],
   "source": [
    "5+7/180.+1.8e308/1.8e+308"
   ]
  },
  {
   "cell_type": "markdown",
   "metadata": {},
   "source": [
    "Smallest representable float"
   ]
  },
  {
   "cell_type": "code",
   "execution_count": 14,
   "metadata": {},
   "outputs": [
    {
     "data": {
      "text/plain": [
       "5e-324"
      ]
     },
     "execution_count": 14,
     "metadata": {},
     "output_type": "execute_result"
    }
   ],
   "source": [
    "5e-324"
   ]
  },
  {
   "cell_type": "code",
   "execution_count": 15,
   "metadata": {},
   "outputs": [
    {
     "data": {
      "text/plain": [
       "0.0"
      ]
     },
     "execution_count": 15,
     "metadata": {},
     "output_type": "execute_result"
    }
   ],
   "source": [
    "2e-324"
   ]
  },
  {
   "cell_type": "markdown",
   "metadata": {},
   "source": [
    "Roundoff errors"
   ]
  },
  {
   "cell_type": "code",
   "execution_count": 19,
   "metadata": {},
   "outputs": [
    {
     "name": "stdout",
     "output_type": "stream",
     "text": [
      "Size of float: 24\n",
      "3940649673949184.0 4000000000000000.0\n",
      "Ratio =  0.985162418487296\n"
     ]
    }
   ],
   "source": [
    "a = 1e15-1\n",
    "b = 1e15+1\n",
    "print(\"Size of float:\",sys.getsizeof(a))\n",
    "\n",
    "d1 = (b**2-a**2)\n",
    "d2 = (b-a)*(a+b)\n",
    "\n",
    "print(d1,d2)\n",
    "\n",
    "print(\"Ratio = \",d1/d2)"
   ]
  },
  {
   "cell_type": "code",
   "execution_count": 21,
   "metadata": {},
   "outputs": [
    {
     "name": "stdout",
     "output_type": "stream",
     "text": [
      "Size of Decimal object: 104\n",
      "4.000000000E+15 4000000000000000\n",
      "Ratio =  1\n"
     ]
    }
   ],
   "source": [
    "import decimal as d\n",
    "d.getcontext().prec = 24  # set precision to 24 decimal places\n",
    "\n",
    "a = d.Decimal(1e15)-1\n",
    "b = d.Decimal(1e15)+1\n",
    "print(\"Size of Decimal object:\",sys.getsizeof(a))\n",
    "\n",
    "d1 = (b**2-a**2)\n",
    "d2 = (b-a)*(a+b)\n",
    "\n",
    "print(d1,d2)\n",
    "print(\"Ratio = \",d1/d2)"
   ]
  },
  {
   "cell_type": "markdown",
   "metadata": {},
   "source": [
    "#### Sizes of composite data types (tuples, lists, arrays)"
   ]
  },
  {
   "cell_type": "code",
   "execution_count": 23,
   "metadata": {},
   "outputs": [
    {
     "data": {
      "text/plain": [
       "120"
      ]
     },
     "execution_count": 23,
     "metadata": {},
     "output_type": "execute_result"
    }
   ],
   "source": [
    "l = [1,2,4,5,6]  # 5*8=40 bytes of information\n",
    "sys.getsizeof(l)"
   ]
  },
  {
   "cell_type": "code",
   "execution_count": 24,
   "metadata": {},
   "outputs": [
    {
     "data": {
      "text/plain": [
       "80"
      ]
     },
     "execution_count": 24,
     "metadata": {},
     "output_type": "execute_result"
    }
   ],
   "source": [
    "t = (1,2,4,5,6)\n",
    "sys.getsizeof(t)"
   ]
  },
  {
   "cell_type": "code",
   "execution_count": 25,
   "metadata": {},
   "outputs": [
    {
     "name": "stdout",
     "output_type": "stream",
     "text": [
      "[0. 0. 0. ... 0. 0. 0.]\n",
      "size of a 10000-element array is 80112 bytes, 8.0 bytes/element\n"
     ]
    }
   ],
   "source": [
    "import numpy as np\n",
    "N=10000\n",
    "a = np.zeros(N,dtype=np.float64)\n",
    "print(a)\n",
    "print('size of a {0:d}-element array is {1:d} bytes, {2:3.1f} bytes/element'.format(N,sys.getsizeof(a),sys.getsizeof(a)/N))"
   ]
  },
  {
   "cell_type": "markdown",
   "metadata": {},
   "source": [
    "#### Beware of floating point comparisons !"
   ]
  },
  {
   "cell_type": "code",
   "execution_count": 26,
   "metadata": {},
   "outputs": [
    {
     "name": "stdout",
     "output_type": "stream",
     "text": [
      "<class 'int'>\n",
      "True\n"
     ]
    }
   ],
   "source": [
    "i = 1\n",
    "print(type(i))\n",
    "print(1 == i)"
   ]
  },
  {
   "cell_type": "code",
   "execution_count": 40,
   "metadata": {},
   "outputs": [
    {
     "data": {
      "text/plain": [
       "True"
      ]
     },
     "execution_count": 40,
     "metadata": {},
     "output_type": "execute_result"
    }
   ],
   "source": [
    "x = 11.000000000000001/10\n",
    "y = 1.1\n",
    "x == y"
   ]
  },
  {
   "cell_type": "code",
   "execution_count": 42,
   "metadata": {},
   "outputs": [
    {
     "data": {
      "text/plain": [
       "True"
      ]
     },
     "execution_count": 42,
     "metadata": {},
     "output_type": "execute_result"
    }
   ],
   "source": [
    "(x-y)<1e-6   # control precision of the comparison, don't rely on automatic precision"
   ]
  },
  {
   "cell_type": "code",
   "execution_count": null,
   "metadata": {},
   "outputs": [],
   "source": [
    "import numpy as np"
   ]
  },
  {
   "cell_type": "code",
   "execution_count": null,
   "metadata": {},
   "outputs": [],
   "source": [
    "np.pi"
   ]
  },
  {
   "cell_type": "code",
   "execution_count": null,
   "metadata": {},
   "outputs": [],
   "source": [
    "np.pi == 3.14159265358979323846264338327950288419716939"
   ]
  },
  {
   "cell_type": "code",
   "execution_count": null,
   "metadata": {},
   "outputs": [],
   "source": [
    "3.14159265358979 == 3.141592653589793"
   ]
  },
  {
   "cell_type": "markdown",
   "metadata": {},
   "source": [
    "In general, the precision of the arithmetic comparisons (==) is not guaranteed. Behavior in Python may be very different from other languages, may depend on OS, compilers, etc. It is considered bad practice to use == comparisons on floating point data. Preferably, you should check if the difference between the two numbers is within a certain precision:"
   ]
  },
  {
   "cell_type": "code",
   "execution_count": null,
   "metadata": {},
   "outputs": [],
   "source": [
    "x = 3.1415926\n",
    "abs(x-np.pi)<1e-6"
   ]
  },
  {
   "cell_type": "markdown",
   "metadata": {},
   "source": [
    "### Formatted output\n",
    "\n",
    "Usually the data you manipulate has finite precision. You do not know it absolutely precisely, and therefore you should not report it with an arbitrary number of digits. One of the cardinal rules of a good science paper: round off all your numbers to the precision you know them (or care about) -- and no more ! \n",
    "\n",
    "#### Examples:"
   ]
  },
  {
   "cell_type": "code",
   "execution_count": 92,
   "metadata": {},
   "outputs": [
    {
     "name": "stdout",
     "output_type": "stream",
     "text": [
      "45.34\n"
     ]
    }
   ],
   "source": [
    "t = 45.34   # I only know 4 digits\n",
    "print(t)   # OK, let Python handle it"
   ]
  },
  {
   "cell_type": "markdown",
   "metadata": {},
   "source": [
    "That's actually pretty good -- Python remembered stored precision !\n",
    "What happens if you now use x in a calculation ? "
   ]
  },
  {
   "cell_type": "code",
   "execution_count": 93,
   "metadata": {},
   "outputs": [
    {
     "name": "stdout",
     "output_type": "stream",
     "text": [
      "6.73349834781297\n"
     ]
    }
   ],
   "source": [
    "print(np.sqrt(t))"
   ]
  },
  {
   "cell_type": "markdown",
   "metadata": {},
   "source": [
    "Do we really know the output to 10 significant digits ? No ! So let's truncate it"
   ]
  },
  {
   "cell_type": "code",
   "execution_count": 97,
   "metadata": {},
   "outputs": [
    {
     "name": "stdout",
     "output_type": "stream",
     "text": [
      "sqrt(t ) = 6.733, sqrt(t2) = 12.031\n"
     ]
    }
   ],
   "source": [
    "t2 = 144.75\n",
    "print('sqrt(t ) = {0:5.3f}, sqrt(t2) = {1:5.3f}'.format(np.sqrt(t),np.sqrt(t2)))\n",
    "#print('sqrt(t2) = {0:5.2f}'.format(np.sqrt(t2)))"
   ]
  },
  {
   "cell_type": "markdown",
   "metadata": {},
   "source": [
    "Another (deprecated) way to skin this cat:"
   ]
  },
  {
   "cell_type": "code",
   "execution_count": 98,
   "metadata": {},
   "outputs": [
    {
     "name": "stdout",
     "output_type": "stream",
     "text": [
      "sqrt(x) =  6.73\n",
      "sqrt(y) = 10.05\n"
     ]
    }
   ],
   "source": [
    "print('sqrt(x) = %5.2f' % np.sqrt(x))\n",
    "print('sqrt(y) = %5.2f' % np.sqrt(101))"
   ]
  },
  {
   "cell_type": "code",
   "execution_count": null,
   "metadata": {},
   "outputs": [],
   "source": [
    "print ('sqrt(x) = {0:3.2e}, x**2 = {1:4.2f}'.format(np.sqrt(x)*1000,x**2))\n",
    "print ('x**2 = {1:4.2f}, sqrt(x) = {0:3.2e}'.format(np.sqrt(x),x**2))\n",
    "print ('sqrt(x) = %3.2e, x**2 = %4.2f' % (np.sqrt(x), x**2))"
   ]
  },
  {
   "cell_type": "markdown",
   "metadata": {},
   "source": [
    "String formatting: can specify the length of the field and justification. By default, the strings are left-justified, and if the length specifier exceeds the length of the string, the string is padded by white space"
   ]
  },
  {
   "cell_type": "code",
   "execution_count": 99,
   "metadata": {},
   "outputs": [
    {
     "name": "stdout",
     "output_type": "stream",
     "text": [
      "My name is Jones, Bill          and I like pineapples\n"
     ]
    }
   ],
   "source": [
    "str = 'Jones, Bill'\n",
    "print('My name is {0:20s} and I like {1:s}'.format(str,'pineapples'))"
   ]
  },
  {
   "cell_type": "markdown",
   "metadata": {},
   "source": [
    "To change justification, use \"<\" to left-justify, \">\" to right-justify, and \"^\" to center:"
   ]
  },
  {
   "cell_type": "code",
   "execution_count": null,
   "metadata": {},
   "outputs": [],
   "source": [
    "print('My name is {0:<20s} and I like {1:s}'.format(str,'pineapples'))"
   ]
  },
  {
   "cell_type": "markdown",
   "metadata": {},
   "source": [
    "Another cool feature of `format()` function (in Python 3) is ability to label parameters by readable names instead of numbers"
   ]
  },
  {
   "cell_type": "code",
   "execution_count": null,
   "metadata": {},
   "outputs": [],
   "source": [
    "print ('x={x:4.2f}, sqrt(x) = {sqrt:4.2f}, x**2 = {square:4.2f}'.format(x=x,sqrt=np.sqrt(x),square=x**2))"
   ]
  },
  {
   "cell_type": "markdown",
   "metadata": {},
   "source": [
    "For more formatting options, see https://pyformat.info/"
   ]
  },
  {
   "cell_type": "markdown",
   "metadata": {},
   "source": [
    "A tricky example: Treat '%' in the old-style formatting expression as an operator which has highest precedence. It is the operator that takes a string and another type, and returns a string. E.g. "
   ]
  },
  {
   "cell_type": "code",
   "execution_count": null,
   "metadata": {},
   "outputs": [],
   "source": [
    "stringFormat = 'var = %5.3f'\n",
    "print(stringFormat, type(stringFormat))\n",
    "\n",
    "out = stringFormat % 2.5\n",
    "print(out)\n",
    "print(type(out))\n",
    "print(stringFormat % 75)\n",
    "print(stringFormat % 123.5)\n",
    "print(stringFormat % 0.576)\n",
    "\n",
    "\n"
   ]
  },
  {
   "cell_type": "markdown",
   "metadata": {},
   "source": [
    "So far so good. But what if you want to do some operations inline, e.g.:"
   ]
  },
  {
   "cell_type": "code",
   "execution_count": null,
   "metadata": {},
   "outputs": [],
   "source": [
    "print('var = %5.3f' % 5./2)"
   ]
  },
  {
   "cell_type": "markdown",
   "metadata": {},
   "source": [
    "This does not work, because % takes the first number (5.) and converts it to formatted string; the string cannot be divided by an integer (2)\n",
    "So again, use parentheses when in doubt ! "
   ]
  },
  {
   "cell_type": "code",
   "execution_count": null,
   "metadata": {},
   "outputs": [],
   "source": [
    "print('var = %5.3f' % (5./2))"
   ]
  },
  {
   "cell_type": "markdown",
   "metadata": {},
   "source": [
    "### Composite data types: lists, tuples, sets, arrays"
   ]
  },
  {
   "cell_type": "markdown",
   "metadata": {},
   "source": [
    "Any computing language defines more complex data structures, which aggregate individual data into a single container. There are two built in structures to python called tuples and lists. However, for our purposes, the most useful data structure is an array, which holds a fixed number of elements of a single type, usually in a contiguous region in memory. \n",
    "Individual array elements can be indexed; first index in Python and other C-like languages is 0\n"
   ]
  },
  {
   "cell_type": "code",
   "execution_count": null,
   "metadata": {},
   "outputs": [],
   "source": [
    "import numpy as np\n",
    "a = np.array([1.0,2.2,3.1,4.5,5.0,9.8])\n",
    "print (a)\n",
    "print(len(a))"
   ]
  },
  {
   "cell_type": "code",
   "execution_count": null,
   "metadata": {},
   "outputs": [],
   "source": [
    "a[1]"
   ]
  },
  {
   "cell_type": "code",
   "execution_count": null,
   "metadata": {},
   "outputs": [],
   "source": [
    "a[7]=10"
   ]
  },
  {
   "cell_type": "code",
   "execution_count": null,
   "metadata": {},
   "outputs": [],
   "source": [
    "print (a[-1], a[-3])   # beware, very different in other languages !"
   ]
  },
  {
   "cell_type": "code",
   "execution_count": null,
   "metadata": {},
   "outputs": [],
   "source": [
    "print(len(a)) # how long is an array ? "
   ]
  },
  {
   "cell_type": "code",
   "execution_count": null,
   "metadata": {},
   "outputs": [],
   "source": [
    "print('a before append:',a)\n",
    "# append element to an array. Beware ! - leaves original array intact, and returns a new array\n",
    "b = np.append(a,11)\n",
    "print('a after append:',a)\n",
    "print('b:',b)\n",
    "a = np.append(a,12)\n",
    "print('a after 2nd append:',a)"
   ]
  },
  {
   "cell_type": "code",
   "execution_count": null,
   "metadata": {},
   "outputs": [],
   "source": [
    "a = np.append(a,[6,7,8,9,10]) # if you want to change the original array\n",
    "print (a)"
   ]
  },
  {
   "cell_type": "markdown",
   "metadata": {},
   "source": [
    "Arrays can be multi-dimentional"
   ]
  },
  {
   "cell_type": "code",
   "execution_count": null,
   "metadata": {},
   "outputs": [],
   "source": [
    "m = np.ndarray(shape=(3,3),dtype=float)  # unitialized array\n",
    "print (m)\n",
    "a = m*2\n",
    "print(a)"
   ]
  },
  {
   "cell_type": "code",
   "execution_count": null,
   "metadata": {},
   "outputs": [],
   "source": [
    "m[:,:]=0\n",
    "m[0,:]=[1,2,3]\n",
    "m[1,:]=[4,5,6]\n",
    "m[2,:]=[7,8,9]\n",
    "\n",
    "#m[0,0] = 10\n",
    "#print (m)\n",
    "m[0,0:2]"
   ]
  },
  {
   "cell_type": "code",
   "execution_count": null,
   "metadata": {},
   "outputs": [],
   "source": [
    "print (m[0][1]) # C-style, row-wise\n",
    "print (m[0,1])"
   ]
  },
  {
   "cell_type": "code",
   "execution_count": null,
   "metadata": {},
   "outputs": [],
   "source": [
    "v = np.array([1,2,3])\n",
    "vt = np.transpose(v)\n",
    "print(v)\n",
    "print(vt)\n",
    "\n",
    "wt = np.ndarray(shape=(3,1),dtype=float)  # unitialized array\n",
    "wt[0,0] = 1\n",
    "wt[1,0] = 2\n",
    "wt[2,0] = 3\n",
    "wt[:,0] = [11,12,13]\n",
    "print(wt)\n",
    "print(wt.transpose())"
   ]
  },
  {
   "cell_type": "code",
   "execution_count": null,
   "metadata": {},
   "outputs": [],
   "source": [
    "v = np.array([1,-1,10])\n",
    "print(m)\n",
    "print(v)\n",
    "print (m*v,\"\\n\")            # probably not what you expected ?\n",
    "print (np.matmul(m,v),\"\\n\") # this is how we do linear algebra !\n",
    "#print (m*5)"
   ]
  },
  {
   "cell_type": "code",
   "execution_count": null,
   "metadata": {},
   "outputs": [],
   "source": [
    "print (np.linalg.det(m))  # determinant -- remember do not compare directly to zero !"
   ]
  },
  {
   "cell_type": "code",
   "execution_count": null,
   "metadata": {},
   "outputs": [],
   "source": [
    "abs(np.linalg.det(m)-1e-6)>0  # is matrix invertible ? "
   ]
  },
  {
   "cell_type": "markdown",
   "metadata": {},
   "source": [
    "Lists are a bit more flexible than an array, but does not need to consist of elements of a single type. This can be convenient, but I generally consider this a risk. So if I were you, I would keep elements of a single type in a list. You can convert lists into Numpy arrays then. "
   ]
  },
  {
   "cell_type": "code",
   "execution_count": null,
   "metadata": {},
   "outputs": [],
   "source": [
    "mylist = [1,2,3,4,'foo',5.8]\n",
    "print(mylist)"
   ]
  },
  {
   "cell_type": "code",
   "execution_count": null,
   "metadata": {},
   "outputs": [],
   "source": [
    "print (len(mylist))\n",
    "print(mylist[4])"
   ]
  },
  {
   "cell_type": "code",
   "execution_count": null,
   "metadata": {},
   "outputs": [],
   "source": [
    "l = [1,2,3]   # create a list\n",
    "l.append([6,7]) # should append individual elements 6 and 7, right ?\n",
    "print (l)           # woah, what happened ?\n",
    "print (len(l))"
   ]
  },
  {
   "cell_type": "code",
   "execution_count": null,
   "metadata": {},
   "outputs": [],
   "source": [
    "l = [1,2,3]\n",
    "l.extend([8,9,10,11])    # this is what we really meant\n",
    "print (l)"
   ]
  },
  {
   "cell_type": "code",
   "execution_count": null,
   "metadata": {},
   "outputs": [],
   "source": [
    "len(l)"
   ]
  },
  {
   "cell_type": "markdown",
   "metadata": {},
   "source": [
    "Differences between tuples and lists: tuples are not mutable !"
   ]
  },
  {
   "cell_type": "code",
   "execution_count": null,
   "metadata": {},
   "outputs": [],
   "source": [
    "t = (1,2,3)\n",
    "print(t)\n",
    "t[2]\n",
    "#t[2] = 5\n",
    "#t.append(5)"
   ]
  },
  {
   "cell_type": "markdown",
   "metadata": {},
   "source": [
    "A more powerful structure is a dictionary (map, or hash table, or RB tree in some languages)"
   ]
  },
  {
   "cell_type": "code",
   "execution_count": null,
   "metadata": {},
   "outputs": [],
   "source": [
    "age = {'Jones': 57, 'Smith': 17}   # declare a dictionary with 2 elements. Types can be mixed\n",
    "print(age)\n",
    "print (age['Smith'])\n",
    "age['Smith'] = 45\n",
    "print (age['Smith'])\n",
    "age['Jones, Bill'] = 5\n",
    "age['Baker, Street'] = 105\n",
    "\n",
    "print(age)\n",
    "#print (age['Jones'])\n",
    "#print (age['Jones, Bill'])\n",
    "#print (age['Ivanov'])\n",
    "\n",
    "#income = {'Jones': 1}\n",
    "#print (income['Jones'])"
   ]
  },
  {
   "cell_type": "markdown",
   "metadata": {},
   "source": [
    "## Functions\n",
    "\n",
    "A function is a self-contained named piece of code that can be used by other parts of the code. Functions usually take arguments (parameters, variables), and return a value. Trig functions are a standard example. Most languages allow you to define your own functions. Functions can be group into a library, usually according to functionality they provide (e.g. math, complex numbers, linear algebra, plotting, etc).\n",
    "\n",
    "In a way, Python functions can be viewed mathematical functions:\n",
    "\n",
    "$f: \\mathbb{X} \\rightarrow \\mathbb{Y}$\n",
    "\n",
    "where $\\mathbb{X}$ and $\\mathbb{Y}$ can be whichever space of your choice.\n",
    "\n",
    "Python has 3 classes of functions:\n",
    "-  built-in functions, e.g. print()\n",
    "-  functions from packages/modules, e.g. sin() from the math package\n",
    "-  user-defined functions."
   ]
  },
  {
   "cell_type": "markdown",
   "metadata": {},
   "source": [
    "**Example 1: absolute value**\n",
    "\n",
    "$\\text{abs}: \\mathbb{R} \\rightarrow \\mathbb{R}^+_0$\n",
    "\n",
    "Mathematical implementation:\n",
    "\n",
    "$x = \\sqrt{x^2}$"
   ]
  },
  {
   "cell_type": "code",
   "execution_count": null,
   "metadata": {},
   "outputs": [],
   "source": [
    "x = -3\n",
    "r = abs(x)   # Call the abs() function \n",
    "print(r)     # Call the print() function!"
   ]
  },
  {
   "cell_type": "markdown",
   "metadata": {},
   "source": [
    "**Example 2: type casting**\n",
    "\n",
    "In python one can convert variables from one type to the other using dedicated predefined functions. One example is the <font color=blue>float</font> function:"
   ]
  },
  {
   "cell_type": "code",
   "execution_count": null,
   "metadata": {},
   "outputs": [],
   "source": [
    "a = 1.\n",
    "b = float(a) # casting a float to a float. Actually quite useless\n",
    "c = 2\n",
    "d = float(c) # casting an integer to a float\n",
    "e = \"4.\"\n",
    "f = float(e) # casting a string to a float\n",
    "print(a)\n",
    "print(b)\n",
    "print(c)\n",
    "print(d)\n",
    "print(e)\n",
    "print(f)"
   ]
  },
  {
   "cell_type": "markdown",
   "metadata": {},
   "source": [
    "### User defined functions\n",
    "\n",
    "If the function we need doesn't exist, we can create one. In order to do so, we need to provide:\n",
    "- name of the function\n",
    "-  a list of arguments\n",
    "-  the algorithm of the function\n",
    "-  the return value\n",
    "\n",
    "The basic structure of a function is the following:"
   ]
  },
  {
   "cell_type": "code",
   "execution_count": null,
   "metadata": {},
   "outputs": [],
   "source": [
    "def Square( x ):\n",
    "    y = x*x            \n",
    "    return y"
   ]
  },
  {
   "cell_type": "code",
   "execution_count": null,
   "metadata": {},
   "outputs": [],
   "source": [
    "def FirstThing( x,y):\n",
    "    return x**2\n",
    "\n",
    "def SecondThing(x,y):\n",
    "    return y**3\n",
    "\n",
    "def DoTwoThings( x, y):\n",
    "    z = FirstThing(x,y)\n",
    "    t = SecondThing(x,y)\n",
    "    return z,t\n",
    "    \n",
    "def DoNothing(x,y):\n",
    "    if ( x > 1 ):\n",
    "        return 5\n",
    "    \n",
    "    print('boo')\n",
    "    return -5"
   ]
  },
  {
   "cell_type": "code",
   "execution_count": null,
   "metadata": {},
   "outputs": [],
   "source": [
    "print(DoTwoThings(4,7))\n",
    "print(DoNothing(-7,8))"
   ]
  },
  {
   "cell_type": "code",
   "execution_count": null,
   "metadata": {},
   "outputs": [],
   "source": [
    "print( Square(3) ) \n",
    "print( Square(174))"
   ]
  },
  {
   "cell_type": "code",
   "execution_count": null,
   "metadata": {},
   "outputs": [],
   "source": [
    "y = Square(173)\n",
    "print(y)\n",
    "print(173**2)"
   ]
  },
  {
   "cell_type": "markdown",
   "metadata": {},
   "source": [
    "Note:\n",
    "-  the colon at the end of the function declaration\n",
    "-  the indentation\n",
    "-  the <font color=blue>return</font> command at the end of the function body\n",
    "\n",
    "**Example: $\\sin{(x)}/x$**"
   ]
  },
  {
   "cell_type": "code",
   "execution_count": null,
   "metadata": {},
   "outputs": [],
   "source": [
    "import matplotlib.pyplot as plt # we need this for drawing\n",
    "import numpy as np              # for the sin and linspace function\n",
    "\n",
    "def SinXoverX( x ):  # declaration\n",
    "    y = np.sin(x)/x  # implementation\n",
    "    return y         # return\n",
    "\n",
    "x = np.linspace( -100, 100., 200 ) # generate 200 points evenly distributed between 0.5 and 100.\n",
    "y = SinXoverX(x)\n",
    "# if a plot function doesn't show anything, run this and then the plot function again\n",
    "%matplotlib inline\n",
    "plt.plot( x, y, 'r-' )"
   ]
  },
  {
   "cell_type": "markdown",
   "metadata": {},
   "source": [
    "**Example: function with multiple arguments**"
   ]
  },
  {
   "cell_type": "code",
   "execution_count": null,
   "metadata": {},
   "outputs": [],
   "source": [
    "def distance( x, y ):\n",
    "    return abs(x-y) # It's a very simple calculation, so I can implement it directly in the return statement\n",
    "\n",
    "print( distance( 2., 4. ) )"
   ]
  },
  {
   "cell_type": "markdown",
   "metadata": {},
   "source": [
    "**Required and optional arguments**\n",
    "\n",
    "Python functions can have two types of arguments: required and optional. Required arguments have no default value and must be passed by the user. Optional arguments have a default value which is used if not specified by the user.\n",
    "For example, let's rewrite the <font color=blue>distance</font> function with the second argument as optional:"
   ]
  },
  {
   "cell_type": "code",
   "execution_count": null,
   "metadata": {},
   "outputs": [],
   "source": [
    "def distance( x, y=0. ):\n",
    "    return abs(x-y)\n",
    "\n",
    "print( distance( 2., 4. ) )\n",
    "print( distance( 1. ) )"
   ]
  },
  {
   "cell_type": "markdown",
   "metadata": {},
   "source": [
    "**Function features to keep in mind**\n",
    "\n",
    "-  Python allows also functions with no return value. Why? Sometimes a function is used to do things. e.g. if you want to compute the same quantity many times, and print it.\n",
    "-  Functions can only be used after they are defined. It is good practice to define them at the beginning of a script.\n",
    "-  You can put the function definitions in a separate file and import it. This is useful if you have some generic function that you use in many different programs."
   ]
  },
  {
   "cell_type": "markdown",
   "metadata": {},
   "source": [
    "## Conditionals\n",
    "\n",
    "Conditionals are commands that are executed only if some condition is satisfied.\n",
    "Beware! Indentation is important in Python. Note that it doesn't really matter how broad the indentation is.\n",
    "\n",
    "\n",
    "**Example: Heaviside step function**\n",
    "\n",
    "All the functions we considered so far were well behaved. But how do we code a step function in Python?\n",
    "\n",
    "$y = f(x) =\n",
    "\\begin{cases}\n",
    "0 \\quad \\text{if}\\quad x<0 \\\\\n",
    "1 \\quad \\text{if}\\quad x\\geq0\n",
    "\\end{cases}\n",
    "$"
   ]
  },
  {
   "cell_type": "code",
   "execution_count": null,
   "metadata": {},
   "outputs": [],
   "source": [
    "x=5\n",
    "if x>2:\n",
    "    print(x)\n",
    "\n",
    "\n",
    "def Theta( x ):\n",
    "\n",
    "    res = 10\n",
    "    if x < 0.:\n",
    "        res = 0.\n",
    "    else:\n",
    "        res = 1\n",
    "    \n",
    "    print('res=',res)\n",
    "    return res\n",
    "\n",
    "xraw = input('Enter numerical value: ') # Ask the user to privide a value\n",
    "print(type(xraw))   # beware ! In Python 3 this returns a string, which needs to be converted to int or float type\n",
    "#x = eval(xraw)      # Also beware of potential security risks (buffer overflow)\n",
    "print(Theta(float(xraw)) )"
   ]
  },
  {
   "cell_type": "markdown",
   "metadata": {},
   "source": [
    "An important thing to take into account is the indentation!"
   ]
  },
  {
   "cell_type": "code",
   "execution_count": null,
   "metadata": {},
   "outputs": [],
   "source": [
    "x=-200\n",
    "if x < 0 :\n",
    "    x = -x   # only executed for negative numbers\n",
    "    if x < -100 : \n",
    "        print('Very small')\n",
    "    print ('This was a negative value')\n",
    "print (x)    # always executed"
   ]
  },
  {
   "cell_type": "markdown",
   "metadata": {},
   "source": [
    "Sometimes you may want to do two different things:"
   ]
  },
  {
   "cell_type": "code",
   "execution_count": null,
   "metadata": {},
   "outputs": [],
   "source": [
    "sum = 10\n",
    "xraw = input('Enter numerical value: ')\n",
    "x=float(xraw)\n",
    "if x < 0 or x>4:\n",
    "    sum = sum - x\n",
    "else :\n",
    "    sum += x\n",
    "print (sum)"
   ]
  },
  {
   "cell_type": "markdown",
   "metadata": {},
   "source": [
    "And sometimes you may need to have several branches"
   ]
  },
  {
   "cell_type": "code",
   "execution_count": null,
   "metadata": {},
   "outputs": [],
   "source": [
    "value = 0 # this line is not needed\n",
    "x = float(input('Enter numerical value: '))\n",
    "if x > 5 :\n",
    "    value = +3\n",
    "elif x > 1 : # else if\n",
    "    value = +2\n",
    "elif x > -1 :\n",
    "    value = 1\n",
    "else :\n",
    "    value = -2\n",
    "    \n",
    "print (value)"
   ]
  },
  {
   "cell_type": "markdown",
   "metadata": {},
   "source": [
    "## Loops"
   ]
  },
  {
   "cell_type": "markdown",
   "metadata": {},
   "source": [
    "### While\n",
    "\n",
    "The while loop repeats an execution while (as long as) a condition is valid."
   ]
  },
  {
   "cell_type": "code",
   "execution_count": null,
   "metadata": {},
   "outputs": [],
   "source": [
    "sum = 0\n",
    "count = 0\n",
    "while sum <= 100:\n",
    "    sum += 10\n",
    "    count += 1\n",
    "    print (sum)\n",
    "    \n",
    "print (sum, count)"
   ]
  },
  {
   "cell_type": "markdown",
   "metadata": {},
   "source": [
    "**Special keywords: break, continue, pass, else**\n",
    "\n",
    "break:"
   ]
  },
  {
   "cell_type": "code",
   "execution_count": null,
   "metadata": {},
   "outputs": [],
   "source": [
    "sum = 0\n",
    "count = 0\n",
    "while sum < 100:\n",
    "    sum += 10\n",
    "    count += 1\n",
    "    if count >= 6:\n",
    "        break\n",
    "    print(sum,count)\n",
    "    \n",
    "print (sum, count)"
   ]
  },
  {
   "cell_type": "markdown",
   "metadata": {},
   "source": [
    "continue:"
   ]
  },
  {
   "cell_type": "code",
   "execution_count": null,
   "metadata": {},
   "outputs": [],
   "source": [
    "sum = 0\n",
    "count = 0\n",
    "while sum < 100000:\n",
    "    sum += 10\n",
    "    count += 1\n",
    "    if count > 4 :\n",
    "        continue\n",
    "    print (sum)\n",
    "    \n",
    "print (sum, count)"
   ]
  },
  {
   "cell_type": "markdown",
   "metadata": {},
   "source": [
    "else:"
   ]
  },
  {
   "cell_type": "code",
   "execution_count": null,
   "metadata": {},
   "outputs": [],
   "source": [
    "sum = 0\n",
    "count = 0\n",
    "while sum < 100:\n",
    "    sum += 10\n",
    "    count += 1\n",
    "    if count >= 60:\n",
    "        break\n",
    "else:                                     # beware of indentation !!!\n",
    "    print (\"Finished without break\")\n",
    "    \n",
    "    \n",
    "print (sum, count)"
   ]
  },
  {
   "cell_type": "code",
   "execution_count": null,
   "metadata": {},
   "outputs": [],
   "source": [
    "sum = 0\n",
    "count = 0\n",
    "while sum < 100:\n",
    "#    sum -= 10       # typo ! \n",
    "    sum += 10       # fixed typo ! \n",
    "    count += 1\n",
    "    print(sum)\n",
    "    \n",
    "print (sum, count)"
   ]
  },
  {
   "cell_type": "markdown",
   "metadata": {},
   "source": [
    "## For\n",
    "\n",
    "The for loop is more conventional and repeats the execution for an index within a given range. This is similar to for() loop in C or other languages.\n",
    "\n",
    "An equivalent syntax in C would be for(int i=0;i<10;i++) {}"
   ]
  },
  {
   "cell_type": "code",
   "execution_count": null,
   "metadata": {},
   "outputs": [],
   "source": [
    "list = range(0,10)\n",
    "print(list)\n",
    "print (len(list))"
   ]
  },
  {
   "cell_type": "code",
   "execution_count": null,
   "metadata": {},
   "outputs": [],
   "source": [
    "for i in list:    # loop from 0 to 10, not including 10, with step = 1\n",
    "    print (i, i*2)"
   ]
  },
  {
   "cell_type": "code",
   "execution_count": null,
   "metadata": {},
   "outputs": [],
   "source": [
    "for i in range(0,10,2):   # loop from 0 to 10, not including 10, with step = 2\n",
    "    print (i)"
   ]
  },
  {
   "cell_type": "code",
   "execution_count": null,
   "metadata": {},
   "outputs": [],
   "source": [
    "list = [1,2,3,4,7,111.,67.] # iterate over elements of the tuple\n",
    "list.append(12)          # what happens here ? \n",
    "print('The list is',len(list),'elements long')\n",
    "i=0\n",
    "list2=list*2\n",
    "print(len(list2))\n",
    "for x in list:\n",
    "    print(i,x,list2[i])\n",
    "#    print ('Element #',i,'is x=',x,'and its square is',x**2)\n",
    "    i+=1"
   ]
  },
  {
   "cell_type": "markdown",
   "metadata": {},
   "source": [
    "You can iterate over lists produced by other functions, e.g. a list of keys to a dictionary "
   ]
  },
  {
   "cell_type": "code",
   "execution_count": null,
   "metadata": {},
   "outputs": [],
   "source": [
    "lastnames = {}                        # create a dictionary\n",
    "lastnames['Billy'] = 'Jones'\n",
    "lastnames['Johnny'] = 'Jones'\n",
    "lastnames['Johnny'] = 'Baker'\n",
    "#lastnames[5] = 'Foo'\n",
    "\n",
    "#print(lastnames['Yury'])\n",
    "lastnames['Yury'] = 'Kolomensky'\n",
    "\n",
    "#list = sorted(lastnames.keys(),reverse=True)\n",
    "#print (list)\n",
    "for key in sorted(lastnames.keys(),reverse=True):          # iterate over elements of the dictionary\n",
    "    print (key, lastnames[key])\n"
   ]
  },
  {
   "cell_type": "markdown",
   "metadata": {},
   "source": [
    "### Nesting and recursive functions\n",
    "\n",
    "We have seen already a few examples of an if statement inside a while loop: this called nesting. Python sets no limit to nesting, i.e. you can have infinite statements and loops within each other."
   ]
  },
  {
   "cell_type": "code",
   "execution_count": null,
   "metadata": {},
   "outputs": [],
   "source": [
    "def factorial(n):                # definition of the function\n",
    "    value = 1\n",
    "    for i in range(2,n+1):       # loop\n",
    "        value *= i               # increment factorial \n",
    "        \n",
    "    return value                 # return value\n",
    "\n",
    "print ('factorial(10)=',factorial(10))\n",
    "for i in range(1,5):\n",
    "    print ('factorial(%d)=%2d' % (i,factorial(i)))\n",
    "\n",
    "#print(factorial(1.1))"
   ]
  },
  {
   "cell_type": "markdown",
   "metadata": {},
   "source": [
    "Here is a more elegant way to implement the function (recursive). It also has basic error handling"
   ]
  },
  {
   "cell_type": "code",
   "execution_count": null,
   "metadata": {},
   "outputs": [],
   "source": [
    "import numpy as np\n",
    "def factRecursive(n):\n",
    "    '''Computes n!, input: integer, output: integer'''\n",
    "    if type(n)!=int:                     # these factorials defined only for integers\n",
    "        return np.nan                    # return Not-a-number\n",
    "    if n > 1:\n",
    "        return n*factRecursive(n-1)      # THIS IS THE RECURSION!!\n",
    "    elif n >= 0:\n",
    "        return 1\n",
    "    else:\n",
    "        return -np.inf                 # return negative infinit\n",
    "    \n",
    "print (factRecursive(10))\n",
    "print (factRecursive(-1))\n",
    "print (factRecursive('Joe'))\n",
    "\n",
    "x = factorial(5)   # old function still defined\n",
    "y = x**2\n",
    "print (y)"
   ]
  },
  {
   "cell_type": "code",
   "execution_count": null,
   "metadata": {},
   "outputs": [],
   "source": []
  }
 ],
 "metadata": {
  "kernelspec": {
   "display_name": "Python 3 (ipykernel)",
   "language": "python",
   "name": "python3"
  },
  "language_info": {
   "codemirror_mode": {
    "name": "ipython",
    "version": 3
   },
   "file_extension": ".py",
   "mimetype": "text/x-python",
   "name": "python",
   "nbconvert_exporter": "python",
   "pygments_lexer": "ipython3",
   "version": "3.10.4"
  }
 },
 "nbformat": 4,
 "nbformat_minor": 4
}
